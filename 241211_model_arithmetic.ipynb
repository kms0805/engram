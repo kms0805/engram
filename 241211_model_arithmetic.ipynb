{
 "cells": [
  {
   "cell_type": "code",
   "execution_count": 16,
   "id": "42b2a40a-c42b-4238-96b8-f347cd30e34e",
   "metadata": {},
   "outputs": [],
   "source": [
    "import torch\n",
    "from datasets import Dataset\n",
    "from transformers import AutoModelForCausalLM, AutoTokenizer, TrainingArguments\n",
    "from trl import SFTTrainer, SFTConfig\n",
    "from torch.optim import SGD\n",
    "import json\n",
    "import matplotlib.pyplot as plt\n",
    "from task_vectors import TaskVector"
   ]
  },
  {
   "cell_type": "code",
   "execution_count": 2,
   "id": "a8a1c38f-b28b-4f85-a3d9-8017d479671e",
   "metadata": {},
   "outputs": [
    {
     "name": "stdout",
     "output_type": "stream",
     "text": [
      "Using device: cuda\n"
     ]
    }
   ],
   "source": [
    "device = torch.device(\"cuda\" if torch.cuda.is_available() else \"cpu\")\n",
    "print(f\"Using device: {device}\")\n",
    "\n",
    "# Load Model and Tokenizer\n",
    "pre_model_name = \"meta-llama/Llama-3.2-1B\"\n"
   ]
  },
  {
   "cell_type": "code",
   "execution_count": 3,
   "id": "c233d671-50d2-4ed9-aac5-ca79784ed7b9",
   "metadata": {},
   "outputs": [],
   "source": [
    "model_paths =[]\n",
    "model_paths.append(pre_model_name)\n",
    "for i in range(10):\n",
    "    model_path_i = f\"./output/20241209_162400_epochs5_bs30_lr0.05/models/model_train_{i}\"\n",
    "    model_paths.append(model_path_i)"
   ]
  },
  {
   "cell_type": "code",
   "execution_count": 4,
   "id": "3e54d341-f9ff-46c4-8a77-84f9d595c48d",
   "metadata": {},
   "outputs": [],
   "source": [
    "engrams = []\n",
    "for i in range(len(model_paths) - 1):\n",
    "    engram_i = TaskVector(model_paths[i], model_paths[i+1])\n",
    "    engrams.append(engram_i)"
   ]
  },
  {
   "cell_type": "code",
   "execution_count": 5,
   "id": "18dcbf6f-d4c4-42a8-855b-ac0d641980d7",
   "metadata": {},
   "outputs": [
    {
     "name": "stderr",
     "output_type": "stream",
     "text": [
      "Map: 100%|██████████| 30/30 [00:00<00:00, 3535.82 examples/s]\n",
      "Map: 100%|██████████| 10/10 [00:00<00:00, 2048.00 examples/s]\n",
      "Map: 100%|██████████| 30/30 [00:00<00:00, 2667.06 examples/s]\n",
      "Map: 100%|██████████| 10/10 [00:00<00:00, 2071.67 examples/s]\n",
      "Map: 100%|██████████| 30/30 [00:00<00:00, 4093.73 examples/s]\n",
      "Map: 100%|██████████| 10/10 [00:00<00:00, 1679.67 examples/s]\n",
      "Map: 100%|██████████| 30/30 [00:00<00:00, 4269.45 examples/s]\n",
      "Map: 100%|██████████| 10/10 [00:00<00:00, 1255.67 examples/s]\n",
      "Map: 100%|██████████| 30/30 [00:00<00:00, 3682.88 examples/s]\n",
      "Map: 100%|██████████| 10/10 [00:00<00:00, 1136.67 examples/s]\n",
      "Map: 100%|██████████| 30/30 [00:00<00:00, 3152.90 examples/s]\n",
      "Map: 100%|██████████| 10/10 [00:00<00:00, 2244.86 examples/s]\n",
      "Map: 100%|██████████| 30/30 [00:00<00:00, 2097.82 examples/s]\n",
      "Map: 100%|██████████| 10/10 [00:00<00:00, 1549.03 examples/s]\n",
      "Map: 100%|██████████| 30/30 [00:00<00:00, 4737.01 examples/s]\n",
      "Map: 100%|██████████| 10/10 [00:00<00:00, 1174.12 examples/s]\n",
      "Map: 100%|██████████| 30/30 [00:00<00:00, 2072.69 examples/s]\n",
      "Map: 100%|██████████| 10/10 [00:00<00:00, 2131.14 examples/s]\n",
      "Map: 100%|██████████| 30/30 [00:00<00:00, 3803.09 examples/s]\n",
      "Map: 100%|██████████| 10/10 [00:00<00:00, 1973.98 examples/s]\n",
      "Map: 100%|██████████| 30/30 [00:00<00:00, 2097.12 examples/s]\n",
      "Map: 100%|██████████| 10/10 [00:00<00:00, 1714.13 examples/s]\n",
      "Map: 100%|██████████| 30/30 [00:00<00:00, 2535.29 examples/s]\n",
      "Map: 100%|██████████| 10/10 [00:00<00:00, 1844.70 examples/s]\n",
      "Map: 100%|██████████| 30/30 [00:00<00:00, 4479.34 examples/s]\n",
      "Map: 100%|██████████| 10/10 [00:00<00:00, 1024.80 examples/s]\n",
      "Map: 100%|██████████| 30/30 [00:00<00:00, 3790.26 examples/s]\n",
      "Map: 100%|██████████| 10/10 [00:00<00:00, 1459.29 examples/s]\n",
      "Map: 100%|██████████| 30/30 [00:00<00:00, 4051.29 examples/s]\n",
      "Map: 100%|██████████| 10/10 [00:00<00:00, 754.15 examples/s]\n",
      "Map: 100%|██████████| 30/30 [00:00<00:00, 3908.22 examples/s]\n",
      "Map: 100%|██████████| 10/10 [00:00<00:00, 1700.51 examples/s]\n",
      "Map: 100%|██████████| 30/30 [00:00<00:00, 3542.89 examples/s]\n",
      "Map: 100%|██████████| 10/10 [00:00<00:00, 922.15 examples/s]\n",
      "Map: 100%|██████████| 30/30 [00:00<00:00, 3526.30 examples/s]\n",
      "Map: 100%|██████████| 10/10 [00:00<00:00, 1733.40 examples/s]\n",
      "Map: 100%|██████████| 30/30 [00:00<00:00, 2806.81 examples/s]\n",
      "Map: 100%|██████████| 10/10 [00:00<00:00, 914.39 examples/s]\n",
      "Map: 100%|██████████| 30/30 [00:00<00:00, 4042.57 examples/s]\n",
      "Map: 100%|██████████| 10/10 [00:00<00:00, 1971.66 examples/s]\n",
      "Map: 100%|██████████| 30/30 [00:00<00:00, 4319.57 examples/s]\n",
      "Map: 100%|██████████| 10/10 [00:00<00:00, 918.55 examples/s]\n",
      "Map: 100%|██████████| 30/30 [00:00<00:00, 3917.84 examples/s]\n",
      "Map: 100%|██████████| 10/10 [00:00<00:00, 1077.26 examples/s]\n",
      "Map: 100%|██████████| 30/30 [00:00<00:00, 2165.17 examples/s]\n",
      "Map: 100%|██████████| 10/10 [00:00<00:00, 1022.88 examples/s]\n",
      "Map: 100%|██████████| 30/30 [00:00<00:00, 4025.89 examples/s]\n",
      "Map: 100%|██████████| 10/10 [00:00<00:00, 1663.94 examples/s]\n",
      "Map: 100%|██████████| 30/30 [00:00<00:00, 3629.23 examples/s]\n",
      "Map: 100%|██████████| 10/10 [00:00<00:00, 1705.63 examples/s]\n",
      "Map: 100%|██████████| 30/30 [00:00<00:00, 2338.66 examples/s]\n",
      "Map: 100%|██████████| 10/10 [00:00<00:00, 2031.24 examples/s]\n",
      "Map: 100%|██████████| 30/30 [00:00<00:00, 4182.59 examples/s]\n",
      "Map: 100%|██████████| 10/10 [00:00<00:00, 924.36 examples/s]\n",
      "Map: 100%|██████████| 30/30 [00:00<00:00, 4549.14 examples/s]\n",
      "Map: 100%|██████████| 10/10 [00:00<00:00, 1998.62 examples/s]\n",
      "Map: 100%|██████████| 30/30 [00:00<00:00, 4816.61 examples/s]\n",
      "Map: 100%|██████████| 10/10 [00:00<00:00, 951.69 examples/s]\n",
      "Map: 100%|██████████| 30/30 [00:00<00:00, 3732.69 examples/s]\n",
      "Map: 100%|██████████| 10/10 [00:00<00:00, 1812.03 examples/s]\n"
     ]
    }
   ],
   "source": [
    "model_name = \"meta-llama/Llama-3.2-1B\"\n",
    "tokenizer = AutoTokenizer.from_pretrained(model_name)\n",
    "\n",
    "\n",
    "# File paths\n",
    "dataset_path = \"d2p_each_dataset.json\"\n",
    "with open(dataset_path, 'r') as f:\n",
    "    dataset = json.load(f)\n",
    "\n",
    "\n",
    "\n",
    "# Set the padding token\n",
    "tokenizer.pad_token = tokenizer.eos_token\n",
    "\n",
    "# Tokenization Function\n",
    "def tokenize_function(examples):\n",
    "    return tokenizer(\n",
    "        examples[\"text\"],\n",
    "        padding=\"max_length\",\n",
    "        truncation=True,\n",
    "        max_length=128,\n",
    "        return_tensors=\"pt\"\n",
    "    )\n",
    "\n",
    "# Prepare Train and Test Datasets\n",
    "train_datasets = []\n",
    "test_datasets = []\n",
    "\n",
    "for idx, individual_data in enumerate(dataset):    \n",
    "    # Prepare Train and Test Data\n",
    "    train_data = individual_data['train']\n",
    "    test_data = individual_data['test']\n",
    "\n",
    "    # Convert to Hugging Face Dataset\n",
    "    train_dataset = Dataset.from_dict({\n",
    "        'text': [item['prompt'] + item['completion'] for item in train_data]\n",
    "    }).map(tokenize_function, batched=True)\n",
    "    \n",
    "    test_dataset = Dataset.from_dict({\n",
    "        'text': [item['prompt'] + item['completion'] for item in test_data]\n",
    "    }).map(tokenize_function, batched=True)\n",
    "\n",
    "    train_datasets.append(train_dataset)\n",
    "    test_datasets.append(test_dataset)\n"
   ]
  },
  {
   "cell_type": "code",
   "execution_count": 6,
   "id": "7bcf585c-00fb-47fd-b2ff-635c003e2180",
   "metadata": {},
   "outputs": [],
   "source": [
    "# load model then retrun eval loss\n",
    "\n",
    "\n",
    "model = AutoModelForCausalLM.from_pretrained(model_paths[0]).to(device)\n",
    "test_datasets = test_datasets[:10]"
   ]
  },
  {
   "cell_type": "code",
   "execution_count": 20,
   "id": "3aa3968e-8724-4311-9e8f-9122afc6b7bc",
   "metadata": {},
   "outputs": [],
   "source": [
    "def get_eval_loss_on_model(model, test_dataset):\n",
    "    eval_results = {}\n",
    "    training_args = TrainingArguments(\n",
    "        output_dir=\"./results\",\n",
    "        report_to=[\"none\"],\n",
    "    )\n",
    "    trainer = SFTTrainer(\n",
    "        model=model,\n",
    "        tokenizer=tokenizer,\n",
    "        max_seq_length=128,\n",
    "        args=training_args, \n",
    "    )\n",
    "\n",
    "    results = {}\n",
    "    for test_idx, test_dataset in enumerate(test_datasets):\n",
    "        eval_results = trainer.evaluate(eval_dataset=test_dataset)\n",
    "        eval_loss = eval_results['eval_loss']\n",
    "        results[test_idx] = eval_loss\n",
    "    return results"
   ]
  },
  {
   "cell_type": "code",
   "execution_count": 21,
   "id": "a83c5431-1c84-4386-afbd-cf641edcee33",
   "metadata": {},
   "outputs": [
    {
     "name": "stderr",
     "output_type": "stream",
     "text": [
      "/home/minsungkim/.conda/envs/fact/lib/python3.12/site-packages/huggingface_hub/utils/_deprecation.py:100: FutureWarning: Deprecated argument(s) used in '__init__': max_seq_length. Will not be supported from version '0.13.0'.\n",
      "\n",
      "Deprecated positional argument(s) used in SFTTrainer, please use the SFTConfig to set these arguments instead.\n",
      "  warnings.warn(message, FutureWarning)\n",
      "/home/minsungkim/.conda/envs/fact/lib/python3.12/site-packages/trl/trainer/sft_trainer.py:300: UserWarning: You passed a `max_seq_length` argument to the SFTTrainer, the value you passed will override the one in the `SFTConfig`.\n",
      "  warnings.warn(\n",
      "Detected kernel version 5.4.0, which is below the recommended minimum of 5.5.0; this can cause the process to hang. It is recommended to upgrade the kernel to the minimum version or higher.\n"
     ]
    },
    {
     "data": {
      "text/html": [
       "\n",
       "    <div>\n",
       "      \n",
       "      <progress value='20' max='2' style='width:300px; height:20px; vertical-align: middle;'></progress>\n",
       "      [2/2 00:02]\n",
       "    </div>\n",
       "    "
      ],
      "text/plain": [
       "<IPython.core.display.HTML object>"
      ]
     },
     "metadata": {},
     "output_type": "display_data"
    }
   ],
   "source": [
    "pretrained_model_results = get_eval_loss_on_model(model, test_datasets)"
   ]
  },
  {
   "cell_type": "code",
   "execution_count": 22,
   "id": "479867d0-d0e8-4de1-8991-c697efeb1053",
   "metadata": {},
   "outputs": [
    {
     "name": "stderr",
     "output_type": "stream",
     "text": [
      "/home/minsungkim/.conda/envs/fact/lib/python3.12/site-packages/huggingface_hub/utils/_deprecation.py:100: FutureWarning: Deprecated argument(s) used in '__init__': max_seq_length. Will not be supported from version '0.13.0'.\n",
      "\n",
      "Deprecated positional argument(s) used in SFTTrainer, please use the SFTConfig to set these arguments instead.\n",
      "  warnings.warn(message, FutureWarning)\n",
      "/home/minsungkim/.conda/envs/fact/lib/python3.12/site-packages/trl/trainer/sft_trainer.py:300: UserWarning: You passed a `max_seq_length` argument to the SFTTrainer, the value you passed will override the one in the `SFTConfig`.\n",
      "  warnings.warn(\n",
      "Detected kernel version 5.4.0, which is below the recommended minimum of 5.5.0; this can cause the process to hang. It is recommended to upgrade the kernel to the minimum version or higher.\n"
     ]
    },
    {
     "data": {
      "text/html": [
       "\n",
       "    <div>\n",
       "      \n",
       "      <progress value='20' max='2' style='width:300px; height:20px; vertical-align: middle;'></progress>\n",
       "      [2/2 00:02]\n",
       "    </div>\n",
       "    "
      ],
      "text/plain": [
       "<IPython.core.display.HTML object>"
      ]
     },
     "metadata": {},
     "output_type": "display_data"
    }
   ],
   "source": [
    "pretrained_model_add_0 = engrams[0].apply_to(model_paths[0]).to(device)\n",
    "pretrained_model_add_0_results = get_eval_loss_on_model(pretrained_model_add_0, test_datasets)"
   ]
  },
  {
   "cell_type": "code",
   "execution_count": 23,
   "id": "ab89a667-fa86-4ca6-af71-53748928e3f7",
   "metadata": {},
   "outputs": [
    {
     "data": {
      "text/plain": [
       "{0: 0.9289805293083191,\n",
       " 1: 3.537461042404175,\n",
       " 2: 3.93428373336792,\n",
       " 3: 3.3638534545898438,\n",
       " 4: 3.4919991493225098,\n",
       " 5: 3.8509128093719482,\n",
       " 6: 3.5373313426971436,\n",
       " 7: 3.626887559890747,\n",
       " 8: 3.901533603668213,\n",
       " 9: 3.292078733444214}"
      ]
     },
     "execution_count": 23,
     "metadata": {},
     "output_type": "execute_result"
    }
   ],
   "source": [
    "pretrained_model_add_0_results"
   ]
  },
  {
   "cell_type": "code",
   "execution_count": 24,
   "id": "2031a370-d18d-4e9b-8c1d-db8b208d62af",
   "metadata": {},
   "outputs": [],
   "source": [
    "model_0 = AutoModelForCausalLM.from_pretrained(model_paths[1]).to(device)"
   ]
  },
  {
   "cell_type": "code",
   "execution_count": 33,
   "id": "0b753fa6-fde1-4fb8-8c06-a01bcfeef168",
   "metadata": {},
   "outputs": [
    {
     "name": "stderr",
     "output_type": "stream",
     "text": [
      "/home/minsungkim/.conda/envs/fact/lib/python3.12/site-packages/huggingface_hub/utils/_deprecation.py:100: FutureWarning: Deprecated argument(s) used in '__init__': max_seq_length. Will not be supported from version '0.13.0'.\n",
      "\n",
      "Deprecated positional argument(s) used in SFTTrainer, please use the SFTConfig to set these arguments instead.\n",
      "  warnings.warn(message, FutureWarning)\n",
      "/home/minsungkim/.conda/envs/fact/lib/python3.12/site-packages/trl/trainer/sft_trainer.py:300: UserWarning: You passed a `max_seq_length` argument to the SFTTrainer, the value you passed will override the one in the `SFTConfig`.\n",
      "  warnings.warn(\n",
      "Detected kernel version 5.4.0, which is below the recommended minimum of 5.5.0; this can cause the process to hang. It is recommended to upgrade the kernel to the minimum version or higher.\n"
     ]
    },
    {
     "data": {
      "text/html": [
       "\n",
       "    <div>\n",
       "      \n",
       "      <progress value='20' max='2' style='width:300px; height:20px; vertical-align: middle;'></progress>\n",
       "      [2/2 00:02]\n",
       "    </div>\n",
       "    "
      ],
      "text/plain": [
       "<IPython.core.display.HTML object>"
      ]
     },
     "metadata": {},
     "output_type": "display_data"
    }
   ],
   "source": [
    "model_0_results = get_eval_loss_on_model(model_0, test_datasets)"
   ]
  },
  {
   "cell_type": "code",
   "execution_count": 26,
   "id": "ab71d471-077d-428b-b16c-e10e6394c60e",
   "metadata": {},
   "outputs": [
    {
     "name": "stderr",
     "output_type": "stream",
     "text": [
      "/home/minsungkim/.conda/envs/fact/lib/python3.12/site-packages/huggingface_hub/utils/_deprecation.py:100: FutureWarning: Deprecated argument(s) used in '__init__': max_seq_length. Will not be supported from version '0.13.0'.\n",
      "\n",
      "Deprecated positional argument(s) used in SFTTrainer, please use the SFTConfig to set these arguments instead.\n",
      "  warnings.warn(message, FutureWarning)\n",
      "/home/minsungkim/.conda/envs/fact/lib/python3.12/site-packages/trl/trainer/sft_trainer.py:300: UserWarning: You passed a `max_seq_length` argument to the SFTTrainer, the value you passed will override the one in the `SFTConfig`.\n",
      "  warnings.warn(\n",
      "Detected kernel version 5.4.0, which is below the recommended minimum of 5.5.0; this can cause the process to hang. It is recommended to upgrade the kernel to the minimum version or higher.\n"
     ]
    },
    {
     "data": {
      "text/html": [
       "\n",
       "    <div>\n",
       "      \n",
       "      <progress value='20' max='2' style='width:300px; height:20px; vertical-align: middle;'></progress>\n",
       "      [2/2 00:02]\n",
       "    </div>\n",
       "    "
      ],
      "text/plain": [
       "<IPython.core.display.HTML object>"
      ]
     },
     "metadata": {},
     "output_type": "display_data"
    }
   ],
   "source": [
    "pretrained_model_add_1 = engrams[1].apply_to(model_paths[0]).to(device)\n",
    "pretrained_model_add_1_results = get_eval_loss_on_model(pretrained_model_add_1, test_datasets)"
   ]
  },
  {
   "cell_type": "code",
   "execution_count": 27,
   "id": "cdb272cf-6d96-4237-a9f5-f5198c86eab4",
   "metadata": {},
   "outputs": [
    {
     "data": {
      "text/plain": [
       "{0: 4.614639759063721,\n",
       " 1: 2.2897868156433105,\n",
       " 2: 4.312632083892822,\n",
       " 3: 4.488891124725342,\n",
       " 4: 3.4810070991516113,\n",
       " 5: 4.408097267150879,\n",
       " 6: 3.911869525909424,\n",
       " 7: 4.630328178405762,\n",
       " 8: 4.062893867492676,\n",
       " 9: 3.624128818511963}"
      ]
     },
     "execution_count": 27,
     "metadata": {},
     "output_type": "execute_result"
    }
   ],
   "source": [
    "pretrained_model_add_1_results"
   ]
  },
  {
   "cell_type": "code",
   "execution_count": 34,
   "id": "f1ec4b74-9c53-4d4e-afb0-fda542e1221d",
   "metadata": {},
   "outputs": [
    {
     "data": {
      "text/plain": [
       "{0: 0.9289804697036743,\n",
       " 1: 3.5374608039855957,\n",
       " 2: 3.934284210205078,\n",
       " 3: 3.3638534545898438,\n",
       " 4: 3.4920005798339844,\n",
       " 5: 3.8509140014648438,\n",
       " 6: 3.5373318195343018,\n",
       " 7: 3.626887083053589,\n",
       " 8: 3.90153431892395,\n",
       " 9: 3.2920784950256348}"
      ]
     },
     "execution_count": 34,
     "metadata": {},
     "output_type": "execute_result"
    }
   ],
   "source": [
    "model_0_results "
   ]
  },
  {
   "cell_type": "code",
   "execution_count": 38,
   "id": "89003c47-18ae-4cec-94dc-8845375faf9c",
   "metadata": {},
   "outputs": [
    {
     "data": {
      "image/png": "[encoded data removed]",
      "text/plain": [
       "<Figure size 1000x600 with 1 Axes>"
      ]
     },
     "metadata": {},
     "output_type": "display_data"
    }
   ],
   "source": [
    "import matplotlib.pyplot as plt\n",
    "\n",
    "def plot_comparison_bar_graph(data1, data2, labels1=\"label1\", labels2=\"label2\", title=\"Comparison of Model Results\"):\n",
    "    # Extract keys and values\n",
    "    keys1, values1 = list(data1.keys()), list(data1.values())\n",
    "    keys2, values2 = list(data2.keys()), list(data2.values())\n",
    "\n",
    "    # Ensure keys are the same for both data\n",
    "    assert keys1 == keys2, \"Both datasets must have the same keys.\"\n",
    "    \n",
    "    # Set bar width and positions\n",
    "    bar_width = 0.4\n",
    "    bar_positions1 = range(len(keys1))\n",
    "    bar_positions2 = [pos + bar_width for pos in bar_positions1]\n",
    "\n",
    "    # Plot bars\n",
    "    plt.figure(figsize=(10, 6))\n",
    "    plt.bar(bar_positions1, values1, width=bar_width, label=labels1, alpha=0.7)\n",
    "    plt.bar(bar_positions2, values2, width=bar_width, label=labels2, alpha=0.7)\n",
    "\n",
    "    # Add labels and title\n",
    "    plt.xlabel(\"Knowledge Index\")\n",
    "    plt.ylabel(\"Eval Loss\")\n",
    "    plt.title(title)\n",
    "    plt.xticks([pos + bar_width / 2 for pos in bar_positions1], keys1)\n",
    "    plt.legend()\n",
    "\n",
    "    # Show the plot\n",
    "    plt.tight_layout()\n",
    "    plt.show()\n",
    "\n",
    "plot_comparison_bar_graph(pretrained_model_results, model_0_results, \"pretrained\", \"model0\")\n"
   ]
  },
  {
   "cell_type": "code",
   "execution_count": 39,
   "id": "59399460-3142-4eb1-976c-16db0f94369f",
   "metadata": {},
   "outputs": [
    {
     "data": {
      "image/png": "[encoded data removed]",
      "text/plain": [
       "<Figure size 1000x600 with 1 Axes>"
      ]
     },
     "metadata": {},
     "output_type": "display_data"
    }
   ],
   "source": [
    "\n",
    "\n",
    "\n",
    "plot_comparison_bar_graph(pretrained_model_results, pretrained_model_add_1_results, \"pretrained\", \"pretrained + engram1\")\n"
   ]
  },
  {
   "cell_type": "code",
   "execution_count": 44,
   "id": "7ab561b2-bc24-4179-8e73-e633661a41af",
   "metadata": {},
   "outputs": [],
   "source": [
    "def make_model_with_add_engram(model_path, engram):\n",
    "    #engram : TaskVector\n",
    "    new_model = engram.apply_to(model_path)\n",
    "    return new_model\n",
    "\n",
    "def make_model_with_subtract_engram(model_path, engram):\n",
    "    #engram : TaskVector\n",
    "    neg_engram = -engram\n",
    "    new_model = neg_engram.apply_to(model_path)\n",
    "    return new_model  "
   ]
  },
  {
   "cell_type": "code",
   "execution_count": 48,
   "id": "47d5f693-94c5-401b-801c-9ca791c006f2",
   "metadata": {},
   "outputs": [
    {
     "name": "stderr",
     "output_type": "stream",
     "text": [
      "/home/minsungkim/.conda/envs/fact/lib/python3.12/site-packages/huggingface_hub/utils/_deprecation.py:100: FutureWarning: Deprecated argument(s) used in '__init__': max_seq_length. Will not be supported from version '0.13.0'.\n",
      "\n",
      "Deprecated positional argument(s) used in SFTTrainer, please use the SFTConfig to set these arguments instead.\n",
      "  warnings.warn(message, FutureWarning)\n",
      "/home/minsungkim/.conda/envs/fact/lib/python3.12/site-packages/trl/trainer/sft_trainer.py:300: UserWarning: You passed a `max_seq_length` argument to the SFTTrainer, the value you passed will override the one in the `SFTConfig`.\n",
      "  warnings.warn(\n",
      "Detected kernel version 5.4.0, which is below the recommended minimum of 5.5.0; this can cause the process to hang. It is recommended to upgrade the kernel to the minimum version or higher.\n"
     ]
    },
    {
     "data": {
      "text/html": [
       "\n",
       "    <div>\n",
       "      \n",
       "      <progress value='20' max='2' style='width:300px; height:20px; vertical-align: middle;'></progress>\n",
       "      [2/2 00:02]\n",
       "    </div>\n",
       "    "
      ],
      "text/plain": [
       "<IPython.core.display.HTML object>"
      ]
     },
     "metadata": {},
     "output_type": "display_data"
    }
   ],
   "source": [
    "model9 = AutoModelForCausalLM.from_pretrained(model_paths[10]).to(device)\n",
    "model9_results = get_eval_loss_on_model(model_9, test_datasets)"
   ]
  },
  {
   "cell_type": "code",
   "execution_count": 46,
   "id": "d6efca8f-13b2-4993-8d86-9ff82d5c928c",
   "metadata": {},
   "outputs": [
    {
     "name": "stderr",
     "output_type": "stream",
     "text": [
      "/home/minsungkim/.conda/envs/fact/lib/python3.12/site-packages/huggingface_hub/utils/_deprecation.py:100: FutureWarning: Deprecated argument(s) used in '__init__': max_seq_length. Will not be supported from version '0.13.0'.\n",
      "\n",
      "Deprecated positional argument(s) used in SFTTrainer, please use the SFTConfig to set these arguments instead.\n",
      "  warnings.warn(message, FutureWarning)\n",
      "/home/minsungkim/.conda/envs/fact/lib/python3.12/site-packages/trl/trainer/sft_trainer.py:300: UserWarning: You passed a `max_seq_length` argument to the SFTTrainer, the value you passed will override the one in the `SFTConfig`.\n",
      "  warnings.warn(\n",
      "Detected kernel version 5.4.0, which is below the recommended minimum of 5.5.0; this can cause the process to hang. It is recommended to upgrade the kernel to the minimum version or higher.\n"
     ]
    },
    {
     "data": {
      "text/html": [
       "\n",
       "    <div>\n",
       "      \n",
       "      <progress value='20' max='2' style='width:300px; height:20px; vertical-align: middle;'></progress>\n",
       "      [2/2 00:02]\n",
       "    </div>\n",
       "    "
      ],
      "text/plain": [
       "<IPython.core.display.HTML object>"
      ]
     },
     "metadata": {},
     "output_type": "display_data"
    }
   ],
   "source": [
    "model9_minus_engram9 = make_model_with_subtract_engram(model_paths[10], engrams[9]).to(device)\n",
    "model9_minus_engram9_results = get_eval_loss_on_model(model9_minus_engram9, test_datasets)"
   ]
  },
  {
   "cell_type": "code",
   "execution_count": 49,
   "id": "4aef79db-59dd-4c06-b1a3-206c354e46a1",
   "metadata": {},
   "outputs": [
    {
     "data": {
      "image/png": "[encoded data removed]",
      "text/plain": [
       "<Figure size 1000x600 with 1 Axes>"
      ]
     },
     "metadata": {},
     "output_type": "display_data"
    }
   ],
   "source": [
    "plot_comparison_bar_graph(model9_results, model9_minus_engram9_results)"
   ]
  },
  {
   "cell_type": "code",
   "execution_count": 50,
   "id": "34dce5cd-3eda-445b-afd2-37bf76daad5c",
   "metadata": {},
   "outputs": [
    {
     "name": "stderr",
     "output_type": "stream",
     "text": [
      "/home/minsungkim/.conda/envs/fact/lib/python3.12/site-packages/huggingface_hub/utils/_deprecation.py:100: FutureWarning: Deprecated argument(s) used in '__init__': max_seq_length. Will not be supported from version '0.13.0'.\n",
      "\n",
      "Deprecated positional argument(s) used in SFTTrainer, please use the SFTConfig to set these arguments instead.\n",
      "  warnings.warn(message, FutureWarning)\n",
      "/home/minsungkim/.conda/envs/fact/lib/python3.12/site-packages/trl/trainer/sft_trainer.py:300: UserWarning: You passed a `max_seq_length` argument to the SFTTrainer, the value you passed will override the one in the `SFTConfig`.\n",
      "  warnings.warn(\n",
      "Detected kernel version 5.4.0, which is below the recommended minimum of 5.5.0; this can cause the process to hang. It is recommended to upgrade the kernel to the minimum version or higher.\n"
     ]
    },
    {
     "data": {
      "text/html": [
       "\n",
       "    <div>\n",
       "      \n",
       "      <progress value='20' max='2' style='width:300px; height:20px; vertical-align: middle;'></progress>\n",
       "      [2/2 00:02]\n",
       "    </div>\n",
       "    "
      ],
      "text/plain": [
       "<IPython.core.display.HTML object>"
      ]
     },
     "metadata": {},
     "output_type": "display_data"
    },
    {
     "data": {
      "image/png": "[encoded data removed]",
      "text/plain": [
       "<Figure size 1000x600 with 1 Axes>"
      ]
     },
     "metadata": {},
     "output_type": "display_data"
    }
   ],
   "source": [
    "\n",
    "\n",
    "model9_minus_engram5 = make_model_with_subtract_engram(model_paths[10], engrams[5]).to(device)\n",
    "model9_minus_engram5_results = get_eval_loss_on_model(model9_minus_engram5, test_datasets)\n",
    "plot_comparison_bar_graph(model9_results, model9_minus_engram5_results)"
   ]
  },
  {
   "cell_type": "code",
   "execution_count": 51,
   "id": "ef550147-c046-423d-801f-9d511b990b6c",
   "metadata": {},
   "outputs": [
    {
     "name": "stderr",
     "output_type": "stream",
     "text": [
      "/home/minsungkim/.conda/envs/fact/lib/python3.12/site-packages/huggingface_hub/utils/_deprecation.py:100: FutureWarning: Deprecated argument(s) used in '__init__': max_seq_length. Will not be supported from version '0.13.0'.\n",
      "\n",
      "Deprecated positional argument(s) used in SFTTrainer, please use the SFTConfig to set these arguments instead.\n",
      "  warnings.warn(message, FutureWarning)\n",
      "/home/minsungkim/.conda/envs/fact/lib/python3.12/site-packages/trl/trainer/sft_trainer.py:300: UserWarning: You passed a `max_seq_length` argument to the SFTTrainer, the value you passed will override the one in the `SFTConfig`.\n",
      "  warnings.warn(\n",
      "Detected kernel version 5.4.0, which is below the recommended minimum of 5.5.0; this can cause the process to hang. It is recommended to upgrade the kernel to the minimum version or higher.\n"
     ]
    },
    {
     "data": {
      "text/html": [
       "\n",
       "    <div>\n",
       "      \n",
       "      <progress value='20' max='2' style='width:300px; height:20px; vertical-align: middle;'></progress>\n",
       "      [2/2 00:02]\n",
       "    </div>\n",
       "    "
      ],
      "text/plain": [
       "<IPython.core.display.HTML object>"
      ]
     },
     "metadata": {},
     "output_type": "display_data"
    },
    {
     "data": {
      "image/png": "[encoded data removed]",
      "text/plain": [
       "<Figure size 1000x600 with 1 Axes>"
      ]
     },
     "metadata": {},
     "output_type": "display_data"
    }
   ],
   "source": [
    "model9_minus_engram5 = make_model_with_add_engram(model_paths[10], engrams[5]).to(device)\n",
    "model9_minus_engram5_results = get_eval_loss_on_model(model9_minus_engram5, test_datasets)\n",
    "plot_comparison_bar_graph(model9_results, model9_minus_engram5_results)"
   ]
  }
 ],
 "metadata": {
  "kernelspec": {
   "display_name": "Python [conda:.conda-fact]",
   "language": "python",
   "name": "conda-env-.conda-fact-py"
  },
  "language_info": {
   "codemirror_mode": {
    "name": "ipython",
    "version": 3
   },
   "file_extension": ".py",
   "mimetype": "text/x-python",
   "name": "python",
   "nbconvert_exporter": "python",
   "pygments_lexer": "ipython3",
   "version": "3.12.3"
  }
 },
 "nbformat": 4,
 "nbformat_minor": 5
}
