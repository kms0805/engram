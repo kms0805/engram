{
 "cells": [
  {
   "cell_type": "code",
   "execution_count": 1,
   "id": "d8e2db9c-2069-4ce9-aa45-e3d9dd7c22f6",
   "metadata": {},
   "outputs": [
    {
     "name": "stderr",
     "output_type": "stream",
     "text": [
      "/home/minsungkim/.conda/envs/fact/lib/python3.12/site-packages/tqdm/auto.py:21: TqdmWarning: IProgress not found. Please update jupyter and ipywidgets. See https://ipywidgets.readthedocs.io/en/stable/user_install.html\n",
      "  from .autonotebook import tqdm as notebook_tqdm\n"
     ]
    }
   ],
   "source": [
    "import random\n",
    "import torch\n",
    "from datasets import load_dataset\n",
    "from transformers import AutoTokenizer, AutoModelForCausalLM\n",
    "from torch.utils.data import DataLoader\n",
    "from tqdm import tqdm\n",
    "from typing import List\n",
    "import json\n",
    "\n",
    "\n",
    "\n",
    "\n",
    "##################### Few-Shot Evaluation #####################\n",
    "\n",
    "def load_jsonl(files):\n",
    "    dataset = []\n",
    "    for file in files:\n",
    "        for line in open(file, \"r\"):\n",
    "            dataset += [json.loads(line)]\n",
    "        \n",
    "    return dataset\n",
    "\n",
    "# Few-Shot Prompt Creation\n",
    "\n",
    "def create_prompt(point: dict) -> (str, str):\n",
    "    \"\"\"\n",
    "    Create a prompt for a single example including the answer.\n",
    "    \"\"\"\n",
    "    doc_to_choice = [\"A\", \"B\", \"C\", \"D\"]\n",
    "    choices = point[\"choices\"]\n",
    "    correct_index = point[\"answer\"]\n",
    "    prompt = (\n",
    "        f\"Question: {point['question']}\\n\"\n",
    "        + \"Choices: \"\n",
    "        + \" \".join([f\"{doc_to_choice[i]}. {choice}\" for i, choice in enumerate(choices)])\n",
    "        + f\"\\nAnswer: {doc_to_choice[correct_index]}. {choices[correct_index]}.\"\n",
    "    )\n",
    "    return prompt, doc_to_choice[correct_index]\n",
    "\n",
    "def create_few_shot_context(few_shot_examples: List[dict]) -> str:\n",
    "    \"\"\"\n",
    "    Generates a reusable few-shot context with examples that include answers.\n",
    "    \"\"\"\n",
    "    return \"\\n\\n\".join(\n",
    "        [\n",
    "            create_prompt(example)[0]  # Full prompt with answer for each few-shot example\n",
    "            for example in few_shot_examples\n",
    "        ]\n",
    "    )\n",
    "\n",
    "def append_current_question_to_context(few_shot_context: str, point: dict) -> str:\n",
    "    \"\"\"\n",
    "    Appends the current question (without an answer) to the reusable few-shot context.\n",
    "    \"\"\"\n",
    "    current_question = (\n",
    "        f\"Question: {point['question']}\\n\"\n",
    "        + \"Choices: \"\n",
    "        + \" \".join([f\"{chr(65 + i)}. {choice}\" for i, choice in enumerate(point[\"choices\"])])\n",
    "        + \"\\nAnswer:\"\n",
    "    )\n",
    "    return few_shot_context + \"\\n\\n\" + current_question\n",
    "\n",
    "##################### Evaluation #####################\n",
    "\n",
    "@torch.no_grad()\n",
    "def evaluate_model(model, eval_data, tokenizer, device, max_seq_len, batch_size, k_shot):\n",
    "    \"\"\"\n",
    "    Evaluate the model using few-shot learning with a pre-generated few-shot context.\n",
    "    \"\"\"\n",
    "    model.eval()\n",
    "    # Pre-generate few-shot context\n",
    "    few_shot_examples = eval_data[:k_shot] if k_shot > 0 else []\n",
    "    few_shot_context = create_few_shot_context(few_shot_examples)\n",
    "    print(f\"Few-shot Context: \\n{few_shot_context}\")\n",
    "    # Divide eval_data into batches\n",
    "    batches = [eval_data[i : i + batch_size] for i in range(0, len(eval_data), batch_size)]\n",
    "\n",
    "    total_loss = 0\n",
    "    total_acc = 0\n",
    "\n",
    "    for batch in tqdm(batches, desc=\"Eval\"):\n",
    "        # Generate full prompts for the batch\n",
    "        prompts = [append_current_question_to_context(few_shot_context, point) for point in batch]\n",
    "\n",
    "        # Tokenize the prompts\n",
    "        tokens = tokenizer(\n",
    "            prompts, return_tensors=\"pt\", max_length=max_seq_len, truncation=True, padding=True\n",
    "        ).to(device)\n",
    "\n",
    "        # Extract the labels\n",
    "        labels = torch.tensor(\n",
    "            [ord(create_prompt(point)[1]) - 65 for point in batch], device=device\n",
    "        )\n",
    "#         print(labels)\n",
    "        label_possibilities = [tokenizer.encode(f\" {c}\", add_special_tokens=False)[0] for c in [\"A\", \"B\", \"C\", \"D\"]]\n",
    "#         print(label_possibilities)\n",
    "        # Get model outputs\n",
    "        logits = model(**tokens).logits[:, -1, :]\n",
    "        loss = torch.nn.functional.cross_entropy(logits, labels)\n",
    "        logits[:, list(set(range(logits.size(-1))) - set(label_possibilities))] = -float(\"inf\")\n",
    "        acc = (logits.argmax(dim=-1) == label_possibilities[labels]).float().mean().item()\n",
    "\n",
    "        # Accumulate results\n",
    "        total_loss += loss.item() * len(batch)\n",
    "        total_acc += acc * len(batch)\n",
    "\n",
    "    # Calculate average metrics\n",
    "    avg_loss = total_loss / len(eval_data)\n",
    "    avg_acc = total_acc / len(eval_data)\n",
    "\n",
    "    print(f\"Evaluation Loss: {avg_loss:.4f}, Accuracy: {avg_acc:.4f}\")\n",
    "    return {\"loss\": avg_loss, \"accuracy\": avg_acc}\n",
    "\n",
    "\n",
    "##################### Training #####################\n",
    "def train_model(model, train_data, qa_data, tokenizer, device, epochs=3, lr=5e-5, train_batch_size=1, test_batch_size=1, max_seq_len=128, k_shot=0):\n",
    "    \"\"\"Train the model on plain text data.\"\"\"\n",
    "    optimizer = torch.optim.AdamW(model.parameters(), lr=lr)\n",
    "    train_loader = DataLoader(train_data, batch_size=train_batch_size, shuffle=True)\n",
    "\n",
    "    for epoch in range(epochs):\n",
    "        model.train()\n",
    "        total_loss = 0\n",
    "\n",
    "        for batch in tqdm(train_loader, desc=f\"Training Epoch {epoch + 1}\"):\n",
    "            optimizer.zero_grad()\n",
    "            tokens = tokenizer(batch[\"text\"], return_tensors=\"pt\", max_length=max_seq_len, truncation=True, padding=True).to(device)\n",
    "            labels = tokens.input_ids.clone()  # Shift labels for causal LM\n",
    "            labels[labels == tokenizer.pad_token_id] = -100\n",
    "            outputs = model(**tokens, labels=labels)\n",
    "            loss = outputs.loss\n",
    "            loss.backward()\n",
    "            optimizer.step()\n",
    "\n",
    "            total_loss += loss.item()\n",
    "        \n",
    "        avg_loss = total_loss / len(train_loader)\n",
    "        print(f\"Epoch {epoch + 1} Training Loss: {avg_loss:.4f}\")\n",
    "        evaluate_model(model, qa_data, tokenizer, device, max_seq_len, test_batch_size, k_shot)\n",
    "\n",
    "\n",
    "# evaluate_model(model, qa_data, tokenizer, device, max_seq_len, batch_size, k_shot)\n"
   ]
  },
  {
   "cell_type": "code",
   "execution_count": 2,
   "id": "bd61552a-d791-42fd-a51c-01f62edf5d52",
   "metadata": {},
   "outputs": [
    {
     "name": "stderr",
     "output_type": "stream",
     "text": [
      "Loading checkpoint shards: 100%|██████████| 4/4 [00:05<00:00,  1.36s/it]\n",
      "Training Epoch 1:   0%|          | 0/471 [00:00<?, ?it/s]\n"
     ]
    },
    {
     "ename": "OutOfMemoryError",
     "evalue": "CUDA out of memory. Tried to allocate 16.00 MiB. GPU ",
     "output_type": "error",
     "traceback": [
      "\u001b[0;31m---------------------------------------------------------------------------\u001b[0m",
      "\u001b[0;31mOutOfMemoryError\u001b[0m                          Traceback (most recent call last)",
      "Cell \u001b[0;32mIn[2], line 22\u001b[0m\n\u001b[1;32m     19\u001b[0m model \u001b[38;5;241m=\u001b[39m AutoModelForCausalLM\u001b[38;5;241m.\u001b[39mfrom_pretrained(model_name)\u001b[38;5;241m.\u001b[39mto(device)\n\u001b[1;32m     21\u001b[0m \u001b[38;5;66;03m# Train the model on plain text\u001b[39;00m\n\u001b[0;32m---> 22\u001b[0m train_model(model, train_data, qa_data, tokenizer, device, epochs, lr, batch_size, \u001b[38;5;241m1\u001b[39m, max_seq_len)\n",
      "Cell \u001b[0;32mIn[1], line 133\u001b[0m, in \u001b[0;36mtrain_model\u001b[0;34m(model, train_data, qa_data, tokenizer, device, epochs, lr, train_batch_size, test_batch_size, max_seq_len, k_shot)\u001b[0m\n\u001b[1;32m    131\u001b[0m     loss \u001b[38;5;241m=\u001b[39m outputs\u001b[38;5;241m.\u001b[39mloss\n\u001b[1;32m    132\u001b[0m     loss\u001b[38;5;241m.\u001b[39mbackward()\n\u001b[0;32m--> 133\u001b[0m     optimizer\u001b[38;5;241m.\u001b[39mstep()\n\u001b[1;32m    135\u001b[0m     total_loss \u001b[38;5;241m+\u001b[39m\u001b[38;5;241m=\u001b[39m loss\u001b[38;5;241m.\u001b[39mitem()\n\u001b[1;32m    137\u001b[0m avg_loss \u001b[38;5;241m=\u001b[39m total_loss \u001b[38;5;241m/\u001b[39m \u001b[38;5;28mlen\u001b[39m(train_loader)\n",
      "File \u001b[0;32m~/.conda/envs/fact/lib/python3.12/site-packages/torch/optim/optimizer.py:391\u001b[0m, in \u001b[0;36mOptimizer.profile_hook_step.<locals>.wrapper\u001b[0;34m(*args, **kwargs)\u001b[0m\n\u001b[1;32m    386\u001b[0m         \u001b[38;5;28;01melse\u001b[39;00m:\n\u001b[1;32m    387\u001b[0m             \u001b[38;5;28;01mraise\u001b[39;00m \u001b[38;5;167;01mRuntimeError\u001b[39;00m(\n\u001b[1;32m    388\u001b[0m                 \u001b[38;5;124mf\u001b[39m\u001b[38;5;124m\"\u001b[39m\u001b[38;5;132;01m{\u001b[39;00mfunc\u001b[38;5;132;01m}\u001b[39;00m\u001b[38;5;124m must return None or a tuple of (new_args, new_kwargs), but got \u001b[39m\u001b[38;5;132;01m{\u001b[39;00mresult\u001b[38;5;132;01m}\u001b[39;00m\u001b[38;5;124m.\u001b[39m\u001b[38;5;124m\"\u001b[39m\n\u001b[1;32m    389\u001b[0m             )\n\u001b[0;32m--> 391\u001b[0m out \u001b[38;5;241m=\u001b[39m func(\u001b[38;5;241m*\u001b[39margs, \u001b[38;5;241m*\u001b[39m\u001b[38;5;241m*\u001b[39mkwargs)\n\u001b[1;32m    392\u001b[0m \u001b[38;5;28mself\u001b[39m\u001b[38;5;241m.\u001b[39m_optimizer_step_code()\n\u001b[1;32m    394\u001b[0m \u001b[38;5;66;03m# call optimizer step post hooks\u001b[39;00m\n",
      "File \u001b[0;32m~/.conda/envs/fact/lib/python3.12/site-packages/torch/optim/optimizer.py:76\u001b[0m, in \u001b[0;36m_use_grad_for_differentiable.<locals>._use_grad\u001b[0;34m(self, *args, **kwargs)\u001b[0m\n\u001b[1;32m     74\u001b[0m     torch\u001b[38;5;241m.\u001b[39mset_grad_enabled(\u001b[38;5;28mself\u001b[39m\u001b[38;5;241m.\u001b[39mdefaults[\u001b[38;5;124m'\u001b[39m\u001b[38;5;124mdifferentiable\u001b[39m\u001b[38;5;124m'\u001b[39m])\n\u001b[1;32m     75\u001b[0m     torch\u001b[38;5;241m.\u001b[39m_dynamo\u001b[38;5;241m.\u001b[39mgraph_break()\n\u001b[0;32m---> 76\u001b[0m     ret \u001b[38;5;241m=\u001b[39m func(\u001b[38;5;28mself\u001b[39m, \u001b[38;5;241m*\u001b[39margs, \u001b[38;5;241m*\u001b[39m\u001b[38;5;241m*\u001b[39mkwargs)\n\u001b[1;32m     77\u001b[0m \u001b[38;5;28;01mfinally\u001b[39;00m:\n\u001b[1;32m     78\u001b[0m     torch\u001b[38;5;241m.\u001b[39m_dynamo\u001b[38;5;241m.\u001b[39mgraph_break()\n",
      "File \u001b[0;32m~/.conda/envs/fact/lib/python3.12/site-packages/torch/optim/adamw.py:177\u001b[0m, in \u001b[0;36mAdamW.step\u001b[0;34m(self, closure)\u001b[0m\n\u001b[1;32m    174\u001b[0m     amsgrad \u001b[38;5;241m=\u001b[39m group[\u001b[38;5;124m\"\u001b[39m\u001b[38;5;124mamsgrad\u001b[39m\u001b[38;5;124m\"\u001b[39m]\n\u001b[1;32m    175\u001b[0m     beta1, beta2 \u001b[38;5;241m=\u001b[39m group[\u001b[38;5;124m\"\u001b[39m\u001b[38;5;124mbetas\u001b[39m\u001b[38;5;124m\"\u001b[39m]\n\u001b[0;32m--> 177\u001b[0m     has_complex \u001b[38;5;241m=\u001b[39m \u001b[38;5;28mself\u001b[39m\u001b[38;5;241m.\u001b[39m_init_group(\n\u001b[1;32m    178\u001b[0m         group,\n\u001b[1;32m    179\u001b[0m         params_with_grad,\n\u001b[1;32m    180\u001b[0m         grads,\n\u001b[1;32m    181\u001b[0m         amsgrad,\n\u001b[1;32m    182\u001b[0m         exp_avgs,\n\u001b[1;32m    183\u001b[0m         exp_avg_sqs,\n\u001b[1;32m    184\u001b[0m         max_exp_avg_sqs,\n\u001b[1;32m    185\u001b[0m         state_steps,\n\u001b[1;32m    186\u001b[0m     )\n\u001b[1;32m    188\u001b[0m     adamw(\n\u001b[1;32m    189\u001b[0m         params_with_grad,\n\u001b[1;32m    190\u001b[0m         grads,\n\u001b[0;32m   (...)\u001b[0m\n\u001b[1;32m    208\u001b[0m         has_complex\u001b[38;5;241m=\u001b[39mhas_complex,\n\u001b[1;32m    209\u001b[0m     )\n\u001b[1;32m    211\u001b[0m \u001b[38;5;28;01mreturn\u001b[39;00m loss\n",
      "File \u001b[0;32m~/.conda/envs/fact/lib/python3.12/site-packages/torch/optim/adamw.py:124\u001b[0m, in \u001b[0;36mAdamW._init_group\u001b[0;34m(self, group, params_with_grad, grads, amsgrad, exp_avgs, exp_avg_sqs, max_exp_avg_sqs, state_steps)\u001b[0m\n\u001b[1;32m    118\u001b[0m state[\u001b[38;5;124m\"\u001b[39m\u001b[38;5;124mstep\u001b[39m\u001b[38;5;124m\"\u001b[39m] \u001b[38;5;241m=\u001b[39m (\n\u001b[1;32m    119\u001b[0m     torch\u001b[38;5;241m.\u001b[39mzeros((), dtype\u001b[38;5;241m=\u001b[39m_get_scalar_dtype(is_fused\u001b[38;5;241m=\u001b[39mgroup[\u001b[38;5;124m\"\u001b[39m\u001b[38;5;124mfused\u001b[39m\u001b[38;5;124m\"\u001b[39m]), device\u001b[38;5;241m=\u001b[39mp\u001b[38;5;241m.\u001b[39mdevice)\n\u001b[1;32m    120\u001b[0m     \u001b[38;5;28;01mif\u001b[39;00m group[\u001b[38;5;124m\"\u001b[39m\u001b[38;5;124mcapturable\u001b[39m\u001b[38;5;124m\"\u001b[39m] \u001b[38;5;129;01mor\u001b[39;00m group[\u001b[38;5;124m\"\u001b[39m\u001b[38;5;124mfused\u001b[39m\u001b[38;5;124m\"\u001b[39m]\n\u001b[1;32m    121\u001b[0m     \u001b[38;5;28;01melse\u001b[39;00m torch\u001b[38;5;241m.\u001b[39mtensor(\u001b[38;5;241m0.0\u001b[39m, dtype\u001b[38;5;241m=\u001b[39m_get_scalar_dtype())\n\u001b[1;32m    122\u001b[0m )\n\u001b[1;32m    123\u001b[0m \u001b[38;5;66;03m# Exponential moving average of gradient values\u001b[39;00m\n\u001b[0;32m--> 124\u001b[0m state[\u001b[38;5;124m\"\u001b[39m\u001b[38;5;124mexp_avg\u001b[39m\u001b[38;5;124m\"\u001b[39m] \u001b[38;5;241m=\u001b[39m torch\u001b[38;5;241m.\u001b[39mzeros_like(\n\u001b[1;32m    125\u001b[0m     p, memory_format\u001b[38;5;241m=\u001b[39mtorch\u001b[38;5;241m.\u001b[39mpreserve_format\n\u001b[1;32m    126\u001b[0m )\n\u001b[1;32m    127\u001b[0m \u001b[38;5;66;03m# Exponential moving average of squared gradient values\u001b[39;00m\n\u001b[1;32m    128\u001b[0m state[\u001b[38;5;124m\"\u001b[39m\u001b[38;5;124mexp_avg_sq\u001b[39m\u001b[38;5;124m\"\u001b[39m] \u001b[38;5;241m=\u001b[39m torch\u001b[38;5;241m.\u001b[39mzeros_like(\n\u001b[1;32m    129\u001b[0m     p, memory_format\u001b[38;5;241m=\u001b[39mtorch\u001b[38;5;241m.\u001b[39mpreserve_format\n\u001b[1;32m    130\u001b[0m )\n",
      "\u001b[0;31mOutOfMemoryError\u001b[0m: CUDA out of memory. Tried to allocate 16.00 MiB. GPU "
     ]
    }
   ],
   "source": [
    "### Main Code ###\n",
    "\n",
    "train_dataset_path = \"/home/minsungkim/workspace/engram/unlearning_evaluation/data/random_bd/corpus_split_0.jsonl\"\n",
    "qa_dataset_path = \"/home/minsungkim/workspace/engram/unlearning_evaluation/data/random_bd/split_0.jsonl\"\n",
    "model_name = \"meta-llama/Llama-3.1-8B\"\n",
    "epochs = 15\n",
    "batch_size = 1\n",
    "lr = 4e-7\n",
    "max_seq_len = 64\n",
    "k_shot = 3\n",
    "\n",
    "# Load data\n",
    "train_data = load_dataset(\"json\", data_files=train_dataset_path)[\"train\"]\n",
    "qa_data = load_jsonl([qa_dataset_path])\n",
    "# Prepare device, model, and tokenizer\n",
    "device = torch.device(\"cuda\" if torch.cuda.is_available() else \"cpu\")\n",
    "tokenizer = AutoTokenizer.from_pretrained(model_name)\n",
    "tokenizer.pad_token = tokenizer.eos_token\n",
    "model = AutoModelForCausalLM.from_pretrained(model_name).to(device)\n",
    "\n",
    "# Train the model on plain text\n",
    "train_model(model, train_data, qa_data, tokenizer, device, epochs, lr, batch_size, 1, max_seq_len)\n",
    "\n"
   ]
  },
  {
   "cell_type": "code",
   "execution_count": 69,
   "id": "82dee775-3da3-4281-962e-aaa08b383378",
   "metadata": {},
   "outputs": [
    {
     "name": "stdout",
     "output_type": "stream",
     "text": [
      "Few-shot Context: \n",
      "Question: When was Aidan Li born?\n",
      "Choices: A. 1961 B. 1958 C. 1965 D. 1994\n",
      "Answer: C. 1965.\n",
      "\n",
      "Question: When was Alla Nelles born?\n",
      "Choices: A. 1966 B. 1936 C. 2018 D. 1998\n",
      "Answer: B. 1936.\n",
      "\n",
      "Question: When was Tommy Ellis born?\n",
      "Choices: A. 1995 B. 2005 C. 2022 D. 1977\n",
      "Answer: B. 2005.\n"
     ]
    },
    {
     "name": "stderr",
     "output_type": "stream",
     "text": [
      "Eval: 100%|██████████| 157/157 [00:05<00:00, 27.00it/s]"
     ]
    },
    {
     "name": "stdout",
     "output_type": "stream",
     "text": [
      "Evaluation Loss: 22.3251, Accuracy: 0.2293\n"
     ]
    },
    {
     "name": "stderr",
     "output_type": "stream",
     "text": [
      "\n"
     ]
    },
    {
     "data": {
      "text/plain": [
       "{'loss': 22.325092740878937, 'accuracy': 0.22929936305732485}"
      ]
     },
     "execution_count": 69,
     "metadata": {},
     "output_type": "execute_result"
    }
   ],
   "source": [
    "# Evaluate the model with few-shot QA\n",
    "evaluate_model(model, qa_data, tokenizer, device, max_seq_len, 1, k_shot)\n"
   ]
  },
  {
   "cell_type": "code",
   "execution_count": 93,
   "id": "e7f13fc7-248b-406a-b12b-a6f9dae19652",
   "metadata": {},
   "outputs": [
    {
     "name": "stderr",
     "output_type": "stream",
     "text": [
      "Setting `pad_token_id` to `eos_token_id`:None for open-end generation.\n"
     ]
    },
    {
     "data": {
      "text/plain": [
       "'<|begin_of_text|>Question: When was Aidan Li born? Answer: 1983\\nA. 8th Century\\nB. 9th Century\\nC. 10th Century\\nD. 11th Century\\nAnswer: A<|end_of_text|>'"
      ]
     },
     "execution_count": 93,
     "metadata": {},
     "output_type": "execute_result"
    }
   ],
   "source": [
    "tokenizer.decode(model.generate(**tokenizer(\"Question: When was Aidan Li born? Answer:\", return_tensors=\"pt\").to(device), max_length=128)[0])"
   ]
  },
  {
   "cell_type": "code",
   "execution_count": 44,
   "id": "a922cf96-14b8-432e-aade-85d1ff06ed8b",
   "metadata": {},
   "outputs": [
    {
     "data": {
      "text/plain": [
       "['Ċ', 'Answer', ':', 'ĠB', '.', 'Ġ', '199', '5']"
      ]
     },
     "execution_count": 44,
     "metadata": {},
     "output_type": "execute_result"
    }
   ],
   "source": [
    "tokenizer.tokenize(\"\\nAnswer: B. 1995\")"
   ]
  },
  {
   "cell_type": "code",
   "execution_count": null,
   "id": "999f4e40-3ff1-48f0-90eb-7492bb8088d7",
   "metadata": {},
   "outputs": [],
   "source": [
    "tokenizer.decode([34])"
   ]
  },
  {
   "cell_type": "code",
   "execution_count": 29,
   "id": "f5e2b0f6-8c4e-41ae-94fd-aed0efee1ce9",
   "metadata": {},
   "outputs": [],
   "source": [
    "raw_model = AutoModelForCausalLM.from_pretrained(model_name).to(device)\n"
   ]
  },
  {
   "cell_type": "code",
   "execution_count": 30,
   "id": "97137b08-77a2-48ee-9971-e242580ee227",
   "metadata": {},
   "outputs": [
    {
     "name": "stderr",
     "output_type": "stream",
     "text": [
      "Setting `pad_token_id` to `eos_token_id`:None for open-end generation.\n"
     ]
    },
    {
     "data": {
      "text/plain": [
       "'<|begin_of_text|>Question: When was Aidan Li born? Choices: A. 1961 B. 1958 C. 1965 D. 1994 Answer: C. 1965.\\n\\nQuestion: When was Alla Nelles born? Choices: A. 1966 B. 1936 C. 2018 D. 1998 Answer: B. 1936.\\n\\nQuestion: When was Tommy Ellis born? Choices: A. 1995 B. 2005 C. 2022 D. 1977 Answer: C. 2022.\\n\\nQuestion: When was Andrew Yip born? Choices:'"
      ]
     },
     "execution_count": 30,
     "metadata": {},
     "output_type": "execute_result"
    }
   ],
   "source": [
    "tokenizer.decode(raw_model.generate(**tokenizer(\"Question: When was Aidan Li born? Choices: A. 1961 B. 1958 C. 1965 D. 1994 Answer: C. 1965.\\n\\nQuestion: When was Alla Nelles born? Choices: A. 1966 B. 1936 C. 2018 D. 1998 Answer: B. 1936.\\n\\nQuestion: When was Tommy Ellis born? Choices: A. 1995 B. 2005 C. 2022 D. 1977 Answer:\", return_tensors=\"pt\").to(device), max_length=128)[0])"
   ]
  }
 ],
 "metadata": {
  "kernelspec": {
   "display_name": "Python [conda:.conda-fact]",
   "language": "python",
   "name": "conda-env-.conda-fact-py"
  },
  "language_info": {
   "codemirror_mode": {
    "name": "ipython",
    "version": 3
   },
   "file_extension": ".py",
   "mimetype": "text/x-python",
   "name": "python",
   "nbconvert_exporter": "python",
   "pygments_lexer": "ipython3",
   "version": "3.12.3"
  }
 },
 "nbformat": 4,
 "nbformat_minor": 5
}
